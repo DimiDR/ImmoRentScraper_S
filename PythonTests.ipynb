{
 "cells": [
  {
   "cell_type": "code",
   "execution_count": 4,
   "metadata": {},
   "outputs": [
    {
     "name": "stdout",
     "output_type": "stream",
     "text": [
      "Collecting numpy\n",
      "  Downloading https://files.pythonhosted.org/packages/e9/dd/a177f27765b1e5f94fa879cbeef61f8807086371d0b6aa232b836d38b78b/numpy-1.17.3-cp37-cp37m-win_amd64.whl (12.7MB)\n",
      "Installing collected packages: numpy\n",
      "Successfully installed numpy-1.17.3\n"
     ]
    }
   ],
   "source": [
    "!pip install numpy\n"
   ]
  },
  {
   "cell_type": "code",
   "execution_count": 1,
   "metadata": {},
   "outputs": [
    {
     "name": "stdout",
     "output_type": "stream",
     "text": "[  0   1   8  27  64 125 216 343 512 729]\n"
    }
   ],
   "source": [
    "import numpy as np\n",
    "a = np.arange(10)**3\n",
    "print(a)"
   ]
  },
  {
   "cell_type": "code",
   "execution_count": 2,
   "metadata": {},
   "outputs": [
    {
     "name": "stdout",
     "output_type": "stream",
     "text": "[ 64 125 216 343 512]\n"
    }
   ],
   "source": [
    "b=a[4:-1]\n",
    "print(b)"
   ]
  },
  {
   "cell_type": "code",
   "execution_count": 3,
   "metadata": {},
   "outputs": [
    {
     "name": "stdout",
     "output_type": "stream",
     "text": "['5 HAHA 0', 2]\n"
    }
   ],
   "source": [
    "columns = []\n",
    "columns.append(\"5 HAHA 0\")\n",
    "columns.append(2)\n",
    "print(columns)"
   ]
  },
  {
   "cell_type": "code",
   "execution_count": 46,
   "metadata": {},
   "outputs": [
    {
     "name": "stdout",
     "output_type": "stream",
     "text": "{'purchasePrice': 84451.24, 'additionalCosts': {'total': 7178.3554, 'totalPercent': 8, 'notaryCosts': 1266.7686, 'notaryCostsPercentage': 1.5, 'entryLandRegister': 422.25620000000004, 'entryLandRegisterPercentage': 0.5, 'landTransfer': 5489.3306, 'landTransferPercentage': 6.5, 'brokerCommission': 0.0, 'brokerCommissionPercentage': 0.0}, 'ownFunds': {'total': 16890.248, 'totalPercent': 20}, 'loanAmount': 74739, 'fixedNominalInterestRate': 'TEN_YEARS', 'amortizationRate': 2, 'averageInterestRate': 0.53, 'effectiveInterestRate': 0.531, 'monthlyRate': 157.0}\n84451.24\n{'total': 7178.3554, 'totalPercent': 8, 'notaryCosts': 1266.7686, 'notaryCostsPercentage': 1.5, 'entryLandRegister': 422.25620000000004, 'entryLandRegisterPercentage': 0.5, 'landTransfer': 5489.3306, 'landTransferPercentage': 6.5, 'brokerCommission': 0.0, 'brokerCommissionPercentage': 0.0}\n7178.3554\n{'total': 16890.248, 'totalPercent': 20}\n16890.248\n"
    }
   ],
   "source": [
    "import json,urllib.request\n",
    "url = 'https://www.immobilienscout24.de/baufinanzierung-api/restapi/api/financing/construction/v1.0/monthlyrate?exposeId=106972801'\n",
    "json_data = urllib.request.urlopen(url).read()\n",
    "json_output = json.loads(json_data)\n",
    "print (json_output)\n",
    "print(json_output[\"purchasePrice\"])\n",
    "print(json_output[\"additionalCosts\"])\n",
    "print(json_output[\"additionalCosts\"][\"total\"])\n",
    "print(json_output[\"ownFunds\"])\n",
    "print(json_output[\"ownFunds\"][\"total\"])"
   ]
  },
  {
   "cell_type": "code",
   "execution_count": 2,
   "metadata": {},
   "outputs": [
    {
     "ename": "KeyError",
     "evalue": "'Decoder failed to handle oauth_token with data as returned by provider. A different decoder may be needed. Provider returned: b\\'\\\\n<common:messages xmlns:common=\"http://rest.immobilienscout24.de/schema/common/1.0\">\\\\n    <message>\\\\n        <messageCode>ERROR_BAD_REQUEST</messageCode>\\\\n        <message>Invalid verifier.</message>\\\\n    </message>\\\\n</common:messages>\\\\n\\''",
     "output_type": "error",
     "traceback": [
      "\u001b[1;31m---------------------------------------------------------------------------\u001b[0m",
      "\u001b[1;31mKeyError\u001b[0m                                  Traceback (most recent call last)",
      "\u001b[1;32m~\\.conda\\envs\\virtual_workspace\\lib\\site-packages\\rauth\\service.py\u001b[0m in \u001b[0;36mprocess_token_request\u001b[1;34m(r, decoder, *args)\u001b[0m\n\u001b[0;32m     20\u001b[0m         \u001b[0mdata\u001b[0m \u001b[1;33m=\u001b[0m \u001b[0mdecoder\u001b[0m\u001b[1;33m(\u001b[0m\u001b[0mr\u001b[0m\u001b[1;33m.\u001b[0m\u001b[0mcontent\u001b[0m\u001b[1;33m)\u001b[0m\u001b[1;33m\u001b[0m\u001b[1;33m\u001b[0m\u001b[0m\n\u001b[1;32m---> 21\u001b[1;33m         \u001b[1;32mreturn\u001b[0m \u001b[0mtuple\u001b[0m\u001b[1;33m(\u001b[0m\u001b[0mdata\u001b[0m\u001b[1;33m[\u001b[0m\u001b[0mkey\u001b[0m\u001b[1;33m]\u001b[0m \u001b[1;32mfor\u001b[0m \u001b[0mkey\u001b[0m \u001b[1;32min\u001b[0m \u001b[0margs\u001b[0m\u001b[1;33m)\u001b[0m\u001b[1;33m\u001b[0m\u001b[1;33m\u001b[0m\u001b[0m\n\u001b[0m\u001b[0;32m     22\u001b[0m     \u001b[1;32mexcept\u001b[0m \u001b[0mKeyError\u001b[0m \u001b[1;32mas\u001b[0m \u001b[0me\u001b[0m\u001b[1;33m:\u001b[0m  \u001b[1;31m# pragma: no cover\u001b[0m\u001b[1;33m\u001b[0m\u001b[1;33m\u001b[0m\u001b[0m\n",
      "\u001b[1;32m~\\.conda\\envs\\virtual_workspace\\lib\\site-packages\\rauth\\service.py\u001b[0m in \u001b[0;36m<genexpr>\u001b[1;34m(.0)\u001b[0m\n\u001b[0;32m     20\u001b[0m         \u001b[0mdata\u001b[0m \u001b[1;33m=\u001b[0m \u001b[0mdecoder\u001b[0m\u001b[1;33m(\u001b[0m\u001b[0mr\u001b[0m\u001b[1;33m.\u001b[0m\u001b[0mcontent\u001b[0m\u001b[1;33m)\u001b[0m\u001b[1;33m\u001b[0m\u001b[1;33m\u001b[0m\u001b[0m\n\u001b[1;32m---> 21\u001b[1;33m         \u001b[1;32mreturn\u001b[0m \u001b[0mtuple\u001b[0m\u001b[1;33m(\u001b[0m\u001b[0mdata\u001b[0m\u001b[1;33m[\u001b[0m\u001b[0mkey\u001b[0m\u001b[1;33m]\u001b[0m \u001b[1;32mfor\u001b[0m \u001b[0mkey\u001b[0m \u001b[1;32min\u001b[0m \u001b[0margs\u001b[0m\u001b[1;33m)\u001b[0m\u001b[1;33m\u001b[0m\u001b[1;33m\u001b[0m\u001b[0m\n\u001b[0m\u001b[0;32m     22\u001b[0m     \u001b[1;32mexcept\u001b[0m \u001b[0mKeyError\u001b[0m \u001b[1;32mas\u001b[0m \u001b[0me\u001b[0m\u001b[1;33m:\u001b[0m  \u001b[1;31m# pragma: no cover\u001b[0m\u001b[1;33m\u001b[0m\u001b[1;33m\u001b[0m\u001b[0m\n",
      "\u001b[1;31mKeyError\u001b[0m: 'oauth_token'",
      "\nDuring handling of the above exception, another exception occurred:\n",
      "\u001b[1;31mKeyError\u001b[0m                                  Traceback (most recent call last)",
      "\u001b[1;32m<ipython-input-2-063a6cd38cff>\u001b[0m in \u001b[0;36m<module>\u001b[1;34m\u001b[0m\n\u001b[0;32m     24\u001b[0m     \u001b[0mrequest_token_secret\u001b[0m\u001b[1;33m,\u001b[0m\u001b[1;33m\u001b[0m\u001b[1;33m\u001b[0m\u001b[0m\n\u001b[0;32m     25\u001b[0m     \u001b[0mmethod\u001b[0m\u001b[1;33m=\u001b[0m\u001b[1;34m'POST'\u001b[0m\u001b[1;33m,\u001b[0m\u001b[1;33m\u001b[0m\u001b[1;33m\u001b[0m\u001b[0m\n\u001b[1;32m---> 26\u001b[1;33m     data={'oauth_verifier': pin})\n\u001b[0m\u001b[0;32m     27\u001b[0m \u001b[1;33m\u001b[0m\u001b[0m\n\u001b[0;32m     28\u001b[0m params = {'geocoordinates': '52.512303;13.431191;1',\n",
      "\u001b[1;32m~\\.conda\\envs\\virtual_workspace\\lib\\site-packages\\rauth\\service.py\u001b[0m in \u001b[0;36mget_auth_session\u001b[1;34m(self, request_token, request_token_secret, method, **kwargs)\u001b[0m\n\u001b[0;32m    357\u001b[0m                                       \u001b[0mrequest_token_secret\u001b[0m\u001b[1;33m,\u001b[0m\u001b[1;33m\u001b[0m\u001b[1;33m\u001b[0m\u001b[0m\n\u001b[0;32m    358\u001b[0m                                       \u001b[0mmethod\u001b[0m\u001b[1;33m=\u001b[0m\u001b[0mmethod\u001b[0m\u001b[1;33m,\u001b[0m\u001b[1;33m\u001b[0m\u001b[1;33m\u001b[0m\u001b[0m\n\u001b[1;32m--> 359\u001b[1;33m                                       **kwargs)\n\u001b[0m\u001b[0;32m    360\u001b[0m         \u001b[0msession\u001b[0m \u001b[1;33m=\u001b[0m \u001b[0mself\u001b[0m\u001b[1;33m.\u001b[0m\u001b[0mget_session\u001b[0m\u001b[1;33m(\u001b[0m\u001b[0mtoken\u001b[0m\u001b[1;33m)\u001b[0m\u001b[1;33m\u001b[0m\u001b[1;33m\u001b[0m\u001b[0m\n\u001b[0;32m    361\u001b[0m \u001b[1;33m\u001b[0m\u001b[0m\n",
      "\u001b[1;32m~\\.conda\\envs\\virtual_workspace\\lib\\site-packages\\rauth\\service.py\u001b[0m in \u001b[0;36mget_access_token\u001b[1;34m(self, request_token, request_token_secret, method, decoder, key_token, key_token_secret, **kwargs)\u001b[0m\n\u001b[0;32m    330\u001b[0m \u001b[1;33m\u001b[0m\u001b[0m\n\u001b[0;32m    331\u001b[0m         \u001b[0maccess_token\u001b[0m\u001b[1;33m,\u001b[0m \u001b[0maccess_token_secret\u001b[0m \u001b[1;33m=\u001b[0m\u001b[0;31m \u001b[0m\u001b[0;31m\\\u001b[0m\u001b[1;33m\u001b[0m\u001b[1;33m\u001b[0m\u001b[0m\n\u001b[1;32m--> 332\u001b[1;33m             \u001b[0mprocess_token_request\u001b[0m\u001b[1;33m(\u001b[0m\u001b[0mr\u001b[0m\u001b[1;33m,\u001b[0m \u001b[0mdecoder\u001b[0m\u001b[1;33m,\u001b[0m \u001b[0mkey_token\u001b[0m\u001b[1;33m,\u001b[0m \u001b[0mkey_token_secret\u001b[0m\u001b[1;33m)\u001b[0m\u001b[1;33m\u001b[0m\u001b[1;33m\u001b[0m\u001b[0m\n\u001b[0m\u001b[0;32m    333\u001b[0m         \u001b[1;32mreturn\u001b[0m \u001b[0maccess_token\u001b[0m\u001b[1;33m,\u001b[0m \u001b[0maccess_token_secret\u001b[0m\u001b[1;33m\u001b[0m\u001b[1;33m\u001b[0m\u001b[0m\n\u001b[0;32m    334\u001b[0m \u001b[1;33m\u001b[0m\u001b[0m\n",
      "\u001b[1;32m~\\.conda\\envs\\virtual_workspace\\lib\\site-packages\\rauth\\service.py\u001b[0m in \u001b[0;36mprocess_token_request\u001b[1;34m(r, decoder, *args)\u001b[0m\n\u001b[0;32m     22\u001b[0m     \u001b[1;32mexcept\u001b[0m \u001b[0mKeyError\u001b[0m \u001b[1;32mas\u001b[0m \u001b[0me\u001b[0m\u001b[1;33m:\u001b[0m  \u001b[1;31m# pragma: no cover\u001b[0m\u001b[1;33m\u001b[0m\u001b[1;33m\u001b[0m\u001b[0m\n\u001b[0;32m     23\u001b[0m         \u001b[0mbad_key\u001b[0m \u001b[1;33m=\u001b[0m \u001b[0me\u001b[0m\u001b[1;33m.\u001b[0m\u001b[0margs\u001b[0m\u001b[1;33m[\u001b[0m\u001b[1;36m0\u001b[0m\u001b[1;33m]\u001b[0m\u001b[1;33m\u001b[0m\u001b[1;33m\u001b[0m\u001b[0m\n\u001b[1;32m---> 24\u001b[1;33m         \u001b[1;32mraise\u001b[0m \u001b[0mKeyError\u001b[0m\u001b[1;33m(\u001b[0m\u001b[0mPROCESS_TOKEN_ERROR\u001b[0m\u001b[1;33m.\u001b[0m\u001b[0mformat\u001b[0m\u001b[1;33m(\u001b[0m\u001b[0mkey\u001b[0m\u001b[1;33m=\u001b[0m\u001b[0mbad_key\u001b[0m\u001b[1;33m,\u001b[0m \u001b[0mraw\u001b[0m\u001b[1;33m=\u001b[0m\u001b[0mr\u001b[0m\u001b[1;33m.\u001b[0m\u001b[0mcontent\u001b[0m\u001b[1;33m)\u001b[0m\u001b[1;33m)\u001b[0m\u001b[1;33m\u001b[0m\u001b[1;33m\u001b[0m\u001b[0m\n\u001b[0m\u001b[0;32m     25\u001b[0m \u001b[1;33m\u001b[0m\u001b[0m\n\u001b[0;32m     26\u001b[0m \u001b[1;33m\u001b[0m\u001b[0m\n",
      "\u001b[1;31mKeyError\u001b[0m: 'Decoder failed to handle oauth_token with data as returned by provider. A different decoder may be needed. Provider returned: b\\'\\\\n<common:messages xmlns:common=\"http://rest.immobilienscout24.de/schema/common/1.0\">\\\\n    <message>\\\\n        <messageCode>ERROR_BAD_REQUEST</messageCode>\\\\n        <message>Invalid verifier.</message>\\\\n    </message>\\\\n</common:messages>\\\\n\\''"
     ]
    }
   ],
   "source": [
    "from rauth import OAuth1Service\n",
    "import webbrowser\n",
    "\n",
    "immoscout = OAuth1Service(\n",
    "    name='immoscout',\n",
    "    consumer_key='ImmobilieAnalyseKey',\n",
    "    consumer_secret='kVakfqRcjQ06JRj3',\n",
    "    request_token_url='https://rest.immobilienscout24.de/restapi/security/oauth/request_token',\n",
    "    access_token_url='https://rest.immobilienscout24.de/restapi/security/oauth/access_token',\n",
    "    authorize_url='https://rest.immobilienscout24.de/restapi/security/oauth/confirm_access',\n",
    "    base_url='https://rest.immobilienscout24.de/restapi/api')\n",
    "\n",
    "request_token, request_token_secret = immoscout.get_request_token(\n",
    "    method='GET',\n",
    "    params={'oauth_callback': 'oob'})\n",
    "\n",
    "authorize_url = immoscout.get_authorize_url(request_token)\n",
    "webbrowser.open(authorize_url)\n",
    "pin = input('Enter PIN from browser: ')\n",
    "\n",
    "session = immoscout.get_auth_session(\n",
    "    request_token,\n",
    "    request_token_secret,\n",
    "    method='POST',\n",
    "    data={'oauth_verifier': pin})\n",
    "\n",
    "params = {'geocoordinates': '52.512303;13.431191;1',\n",
    "          'realestatetype': 'apartmentrent'}\n",
    "\n",
    "r = session.get('search/v1.0/search/radius', params=params)\n",
    "print(r)"
   ]
  },
  {
   "cell_type": "code",
   "execution_count": null,
   "metadata": {},
   "outputs": [],
   "source": []
  }
 ],
 "metadata": {
  "kernelspec": {
   "display_name": "Python 3",
   "language": "python",
   "name": "python3"
  },
  "language_info": {
   "codemirror_mode": {
    "name": "ipython",
    "version": 3
   },
   "file_extension": ".py",
   "mimetype": "text/x-python",
   "name": "python",
   "nbconvert_exporter": "python",
   "pygments_lexer": "ipython3",
   "version": "3.7.4"
  }
 },
 "nbformat": 4,
 "nbformat_minor": 2
}